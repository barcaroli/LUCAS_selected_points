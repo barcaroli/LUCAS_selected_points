{
 "cells": [
  {
   "cell_type": "code",
   "execution_count": 2,
   "id": "c8dc01a9-71ff-4286-bbb1-dc1aa424e648",
   "metadata": {},
   "outputs": [
    {
     "name": "stderr",
     "output_type": "stream",
     "text": [
      "Linking to GEOS 3.9.1, GDAL 3.2.1, PROJ 7.2.1\n",
      "\n"
     ]
    }
   ],
   "source": [
    "library(shiny)\n",
    "library(shinythemes)\n",
    "library(sf)\n",
    "library(mapview)\n",
    "library(leaflet)\n",
    "library(leafpop)"
   ]
  },
  {
   "cell_type": "code",
   "execution_count": 4,
   "id": "6a17f70a-3b9d-4f22-9392-c081c94a3cbf",
   "metadata": {},
   "outputs": [
    {
     "name": "stderr",
     "output_type": "stream",
     "text": [
      "Warning message in file(filename, \"r\", encoding = encoding):\n",
      "\"non è possibile aprire il file 'ui.R': No such file or directory\"\n"
     ]
    },
    {
     "ename": "ERROR",
     "evalue": "Error in file(filename, \"r\", encoding = encoding): non è possibile aprire la connessione\n",
     "output_type": "error",
     "traceback": [
      "Error in file(filename, \"r\", encoding = encoding): non è possibile aprire la connessione\nTraceback:\n",
      "1. source(\"ui.R\")",
      "2. file(filename, \"r\", encoding = encoding)"
     ]
    }
   ],
   "source": [
    "setwd(\"\n",
    "source(\"ui.R\")\n",
    "source(\"server.R\")\n",
    "shinyApp(ui, server)"
   ]
  },
  {
   "cell_type": "code",
   "execution_count": null,
   "id": "0d9750c2-ea90-4e96-85dc-c843488caab8",
   "metadata": {},
   "outputs": [],
   "source": []
  }
 ],
 "metadata": {
  "kernelspec": {
   "display_name": "R",
   "language": "R",
   "name": "ir"
  },
  "language_info": {
   "codemirror_mode": "r",
   "file_extension": ".r",
   "mimetype": "text/x-r-source",
   "name": "R",
   "pygments_lexer": "r",
   "version": "4.1.1"
  }
 },
 "nbformat": 4,
 "nbformat_minor": 5
}
